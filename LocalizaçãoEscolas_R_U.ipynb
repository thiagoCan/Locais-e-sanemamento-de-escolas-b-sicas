{
 "cells": [
  {
   "cell_type": "code",
   "execution_count": 92,
   "metadata": {},
   "outputs": [
    {
     "data": {
      "text/plain": [
       "0         Urbana\n",
       "1         Urbana\n",
       "2         Urbana\n",
       "3         Urbana\n",
       "4         Urbana\n",
       "           ...  \n",
       "243632     Rural\n",
       "243633     Rural\n",
       "243634     Rural\n",
       "243635     Rural\n",
       "243636     Rural\n",
       "Name: LOC, Length: 243637, dtype: object"
      ]
     },
     "execution_count": 92,
     "metadata": {},
     "output_type": "execute_result"
    }
   ],
   "source": [
    "import pandas as pd\n",
    "censo= pd.read_csv('CENSOESC_1995.csv', usecols=['LOC'], squeeze=True)\n",
    "censo"
   ]
  },
  {
   "cell_type": "code",
   "execution_count": 93,
   "metadata": {},
   "outputs": [
    {
     "data": {
      "text/plain": [
       "Rural     154723\n",
       "Urbana     88913\n",
       "Name: LOC, dtype: int64"
      ]
     },
     "execution_count": 93,
     "metadata": {},
     "output_type": "execute_result"
    }
   ],
   "source": [
    "#conta quantas escolas rurais e urbanas tem no arquivo CENSOESC_1995.csv.\n",
    "censo95 = censo.value_counts()\n",
    "censo95"
   ]
  },
  {
   "cell_type": "code",
   "execution_count": 94,
   "metadata": {},
   "outputs": [
    {
     "data": {
      "text/plain": [
       "0        Urbana\n",
       "1        Urbana\n",
       "2        Urbana\n",
       "3        Urbana\n",
       "4        Urbana\n",
       "          ...  \n",
       "49637    Urbana\n",
       "49638     Rural\n",
       "49639    Urbana\n",
       "49640    Urbana\n",
       "49641    Urbana\n",
       "Name: LOC, Length: 49642, dtype: object"
      ]
     },
     "execution_count": 94,
     "metadata": {},
     "output_type": "execute_result"
    }
   ],
   "source": [
    "DadosDesp95= pd.read_csv('DADOS_DESP_1995.csv', usecols=['LOC'], squeeze=True)\n",
    "DadosDesp95"
   ]
  },
  {
   "cell_type": "code",
   "execution_count": 95,
   "metadata": {},
   "outputs": [
    {
     "data": {
      "text/plain": [
       "Urbana    46254\n",
       "Rural      3388\n",
       "Name: LOC, dtype: int64"
      ]
     },
     "execution_count": 95,
     "metadata": {},
     "output_type": "execute_result"
    }
   ],
   "source": [
    "#conta quantas escolas rurais e urbanas tem no arquivo DADOS_DESP_1995.csv.\n",
    "DadosDesp95 = DadosDesp95.value_counts()\n",
    "DadosDesp95"
   ]
  },
  {
   "cell_type": "code",
   "execution_count": 96,
   "metadata": {},
   "outputs": [
    {
     "data": {
      "text/plain": [
       "0        Urbana\n",
       "1         Rural\n",
       "2         Rural\n",
       "3        Urbana\n",
       "4         Rural\n",
       "          ...  \n",
       "25567    Urbana\n",
       "25568    Urbana\n",
       "25569    Urbana\n",
       "25570    Urbana\n",
       "25571    Urbana\n",
       "Name: LOC, Length: 25572, dtype: object"
      ]
     },
     "execution_count": 96,
     "metadata": {},
     "output_type": "execute_result"
    }
   ],
   "source": [
    "DadosCurso95 = pd.read_csv('DADOSCURSO_1995.csv', usecols=['LOC'], squeeze=True)\n",
    "DadosCurso95"
   ]
  },
  {
   "cell_type": "code",
   "execution_count": 97,
   "metadata": {},
   "outputs": [
    {
     "data": {
      "text/plain": [
       "Urbana    25002\n",
       "Rural       570\n",
       "Name: LOC, dtype: int64"
      ]
     },
     "execution_count": 97,
     "metadata": {},
     "output_type": "execute_result"
    }
   ],
   "source": [
    "#conta quantas escolas rurais e urbanas tem no arquivo DADOSCURSO_1995.csv.\n",
    "DadosCurso95 = DadosCurso95.value_counts()\n",
    "DadosCurso95"
   ]
  },
  {
   "cell_type": "code",
   "execution_count": 98,
   "metadata": {},
   "outputs": [
    {
     "data": {
      "text/plain": [
       "158681"
      ]
     },
     "execution_count": 98,
     "metadata": {},
     "output_type": "execute_result"
    }
   ],
   "source": [
    "#Total de escolas Rurais\n",
    "rural95 = censo95['Rural'] + DadosDesp95['Rural'] + DadosCurso95['Rural']\n",
    "rural95"
   ]
  },
  {
   "cell_type": "code",
   "execution_count": 99,
   "metadata": {},
   "outputs": [
    {
     "data": {
      "text/plain": [
       "160169"
      ]
     },
     "execution_count": 99,
     "metadata": {},
     "output_type": "execute_result"
    }
   ],
   "source": [
    "#Total de escolas Urbanas\n",
    "urbana95 = censo95['Urbana'] + DadosDesp95['Urbana'] + DadosCurso95['Urbana']\n",
    "urbana95"
   ]
  },
  {
   "cell_type": "code",
   "execution_count": 100,
   "metadata": {},
   "outputs": [
    {
     "data": {
      "text/plain": [
       "Rural     176986\n",
       "Urbana     99745\n",
       "Name: LOC, dtype: int64"
      ]
     },
     "execution_count": 100,
     "metadata": {},
     "output_type": "execute_result"
    }
   ],
   "source": [
    "censo96 = pd.read_csv('CENSOESC_1996.csv', usecols=['LOC'], squeeze=True)\n",
    "censo96 = censo96.value_counts()\n",
    "censo96"
   ]
  },
  {
   "cell_type": "code",
   "execution_count": 101,
   "metadata": {},
   "outputs": [
    {
     "data": {
      "text/plain": [
       "Urbana    24288\n",
       "Rural       605\n",
       "Name: LOC, dtype: int64"
      ]
     },
     "execution_count": 101,
     "metadata": {},
     "output_type": "execute_result"
    }
   ],
   "source": [
    "em8_96 = pd.read_csv('EM8_1996.csv', usecols=['LOC'], squeeze=True)\n",
    "em8_96 = em8_96.value_counts()\n",
    "em8_96"
   ]
  },
  {
   "cell_type": "code",
   "execution_count": 102,
   "metadata": {},
   "outputs": [
    {
     "data": {
      "text/plain": [
       "Urbana    19247\n",
       "Rural       370\n",
       "Name: LOC, dtype: int64"
      ]
     },
     "execution_count": 102,
     "metadata": {},
     "output_type": "execute_result"
    }
   ],
   "source": [
    "em11_96 = pd.read_csv('EM11_1996.csv', usecols=['LOC'], squeeze=True)\n",
    "em11_96 = em11_96.value_counts()\n",
    "em11_96"
   ]
  },
  {
   "cell_type": "code",
   "execution_count": 103,
   "metadata": {},
   "outputs": [
    {
     "data": {
      "text/plain": [
       "Urbana    405\n",
       "Rural       1\n",
       "Name: LOC, dtype: int64"
      ]
     },
     "execution_count": 103,
     "metadata": {},
     "output_type": "execute_result"
    }
   ],
   "source": [
    "es6_96 = pd.read_csv('ES6_1996.csv', usecols=['LOC'], squeeze=True)\n",
    "es6_96 = es6_96.value_counts()\n",
    "es6_96"
   ]
  },
  {
   "cell_type": "code",
   "execution_count": 104,
   "metadata": {},
   "outputs": [
    {
     "data": {
      "text/plain": [
       "143685"
      ]
     },
     "execution_count": 104,
     "metadata": {},
     "output_type": "execute_result"
    }
   ],
   "source": [
    "# total de escolas na zona urbana de 96\n",
    "urbana96 = censo96['Urbana'] + em8_96['Urbana'] + em11_96['Urbana'] + es6_96['Urbana']\n",
    "urbana96"
   ]
  },
  {
   "cell_type": "code",
   "execution_count": 105,
   "metadata": {},
   "outputs": [
    {
     "data": {
      "text/plain": [
       "177962"
      ]
     },
     "execution_count": 105,
     "metadata": {},
     "output_type": "execute_result"
    }
   ],
   "source": [
    "#total de escolas na zona rural de 96\n",
    "rural96 = censo96['Rural']  + em8_96['Rural'] + em11_96['Rural'] + es6_96['Rural']\n",
    "rural96"
   ]
  },
  {
   "cell_type": "code",
   "execution_count": 106,
   "metadata": {},
   "outputs": [
    {
     "data": {
      "text/plain": [
       "Rural     174153\n",
       "Urbana     99798\n",
       "Name: LOC, dtype: int64"
      ]
     },
     "execution_count": 106,
     "metadata": {},
     "output_type": "execute_result"
    }
   ],
   "source": [
    "censo97 = pd.read_csv('CENSOESC_1997.csv', usecols=['LOC'], squeeze=True)\n",
    "censo97 = censo97.value_counts()\n",
    "censo97"
   ]
  },
  {
   "cell_type": "code",
   "execution_count": 107,
   "metadata": {},
   "outputs": [
    {
     "data": {
      "text/plain": [
       "Urbana    27881\n",
       "Rural       707\n",
       "Name: LOC, dtype: int64"
      ]
     },
     "execution_count": 107,
     "metadata": {},
     "output_type": "execute_result"
    }
   ],
   "source": [
    "em12_97 = pd.read_csv('EM12_1997.csv', usecols=['LOC'], squeeze=True)\n",
    "em12_97 = em12_97.value_counts()\n",
    "em12_97"
   ]
  },
  {
   "cell_type": "code",
   "execution_count": 108,
   "metadata": {},
   "outputs": [
    {
     "data": {
      "text/plain": [
       "127679"
      ]
     },
     "execution_count": 108,
     "metadata": {},
     "output_type": "execute_result"
    }
   ],
   "source": [
    "#Total de escolas na zona urbana em 97\n",
    "urbana97 = censo97['Urbana'] + em12_97['Urbana']\n",
    "urbana97"
   ]
  },
  {
   "cell_type": "code",
   "execution_count": 109,
   "metadata": {},
   "outputs": [
    {
     "data": {
      "text/plain": [
       "174860"
      ]
     },
     "execution_count": 109,
     "metadata": {},
     "output_type": "execute_result"
    }
   ],
   "source": [
    "#Total de escolas na zona rural em 97\n",
    "rural97 = censo97['Rural'] + em12_97['Rural']\n",
    "rural97"
   ]
  },
  {
   "cell_type": "code",
   "execution_count": 110,
   "metadata": {},
   "outputs": [
    {
     "data": {
      "text/plain": [
       "Rural     167930\n",
       "Urbana     99602\n",
       "Name: LOC, dtype: int64"
      ]
     },
     "execution_count": 110,
     "metadata": {},
     "output_type": "execute_result"
    }
   ],
   "source": [
    "censo98 = pd.read_csv('CENSOESC_1998.csv', usecols=['LOC'], squeeze=True)\n",
    "censo98 = censo98.value_counts()\n",
    "censo98"
   ]
  },
  {
   "cell_type": "code",
   "execution_count": 111,
   "metadata": {},
   "outputs": [
    {
     "data": {
      "text/plain": [
       "Urbana    28869\n",
       "Rural       853\n",
       "Name: LOC, dtype: int64"
      ]
     },
     "execution_count": 111,
     "metadata": {},
     "output_type": "execute_result"
    }
   ],
   "source": [
    "em12_98 = pd.read_csv('EM12_1998.csv', usecols=['LOC'], squeeze=True)\n",
    "em12_98 = em12_98.value_counts()\n",
    "em12_98"
   ]
  },
  {
   "cell_type": "code",
   "execution_count": 112,
   "metadata": {},
   "outputs": [
    {
     "data": {
      "text/plain": [
       "Urbana    1796\n",
       "Rural       55\n",
       "Name: LOC, dtype: int64"
      ]
     },
     "execution_count": 112,
     "metadata": {},
     "output_type": "execute_result"
    }
   ],
   "source": [
    "educprof98 = pd.read_csv('EDUCPROF_1998.csv', usecols=['LOC'], squeeze=True)\n",
    "educprof98 = educprof98.value_counts()\n",
    "educprof98"
   ]
  },
  {
   "cell_type": "code",
   "execution_count": 113,
   "metadata": {},
   "outputs": [
    {
     "data": {
      "text/plain": [
       "130267"
      ]
     },
     "execution_count": 113,
     "metadata": {},
     "output_type": "execute_result"
    }
   ],
   "source": [
    "#Total de escolas na zona urbana em 98\n",
    "urbana98 = censo98['Urbana'] + em12_98['Urbana'] + educprof98['Urbana']\n",
    "urbana98"
   ]
  },
  {
   "cell_type": "code",
   "execution_count": 114,
   "metadata": {},
   "outputs": [
    {
     "data": {
      "text/plain": [
       "168838"
      ]
     },
     "execution_count": 114,
     "metadata": {},
     "output_type": "execute_result"
    }
   ],
   "source": [
    "#Total de escolas na zona rural em 98\n",
    "rural98 = censo98['Rural'] + em12_98['Rural'] + educprof98['Rural']\n",
    "rural98"
   ]
  },
  {
   "cell_type": "code",
   "execution_count": 115,
   "metadata": {},
   "outputs": [
    {
     "data": {
      "text/plain": [
       "Rural     159884\n",
       "Urbana    106761\n",
       "Name: LOC, dtype: int64"
      ]
     },
     "execution_count": 115,
     "metadata": {},
     "output_type": "execute_result"
    }
   ],
   "source": [
    "censo_esc99 = pd.read_csv('CENSOESC_1999.csv', usecols=['LOC'], squeeze=True)\n",
    "censo_esc99 = censo_esc99.value_counts()\n",
    "censo_esc99"
   ]
  },
  {
   "cell_type": "code",
   "execution_count": 116,
   "metadata": {},
   "outputs": [
    {
     "data": {
      "text/plain": [
       "Urbana    29721\n",
       "Rural       874\n",
       "Name: LOC, dtype: int64"
      ]
     },
     "execution_count": 116,
     "metadata": {},
     "output_type": "execute_result"
    }
   ],
   "source": [
    "educprof99 = pd.read_csv('EDUCPROF_1999.csv', usecols=['LOC'], squeeze=True)\n",
    "educprof99 = educprof99.value_counts()\n",
    "educprof99"
   ]
  },
  {
   "cell_type": "code",
   "execution_count": 117,
   "metadata": {},
   "outputs": [
    {
     "data": {
      "text/plain": [
       "59442"
      ]
     },
     "execution_count": 117,
     "metadata": {},
     "output_type": "execute_result"
    }
   ],
   "source": [
    "urbana99 = educprof99['Urbana'] + educprof99['Urbana']\n",
    "urbana99"
   ]
  },
  {
   "cell_type": "code",
   "execution_count": 118,
   "metadata": {},
   "outputs": [
    {
     "data": {
      "text/plain": [
       "1748"
      ]
     },
     "execution_count": 118,
     "metadata": {},
     "output_type": "execute_result"
    }
   ],
   "source": [
    "rural99 = educprof99['Rural'] + educprof99['Rural']\n",
    "rural99"
   ]
  },
  {
   "cell_type": "code",
   "execution_count": 119,
   "metadata": {},
   "outputs": [],
   "source": [
    "import matplotlib.pyplot as plt\n",
    "import numpy as np"
   ]
  },
  {
   "cell_type": "code",
   "execution_count": 120,
   "metadata": {},
   "outputs": [
    {
     "data": {
      "text/plain": [
       "160.2"
      ]
     },
     "execution_count": 120,
     "metadata": {},
     "output_type": "execute_result"
    }
   ],
   "source": [
    "urbana95 = float('%.1f' %(urbana95/1000))\n",
    "urbana95"
   ]
  },
  {
   "cell_type": "code",
   "execution_count": 121,
   "metadata": {},
   "outputs": [
    {
     "data": {
      "text/plain": [
       "158.7"
      ]
     },
     "execution_count": 121,
     "metadata": {},
     "output_type": "execute_result"
    }
   ],
   "source": [
    "rural95 = float('%.1f' %(rural95/1000))\n",
    "rural95"
   ]
  },
  {
   "cell_type": "code",
   "execution_count": 122,
   "metadata": {},
   "outputs": [
    {
     "data": {
      "text/plain": [
       "178.0"
      ]
     },
     "execution_count": 122,
     "metadata": {},
     "output_type": "execute_result"
    }
   ],
   "source": [
    "rural96 = float('%.1f' %(rural96/1000))\n",
    "rural96"
   ]
  },
  {
   "cell_type": "code",
   "execution_count": 123,
   "metadata": {},
   "outputs": [
    {
     "data": {
      "text/plain": [
       "143.7"
      ]
     },
     "execution_count": 123,
     "metadata": {},
     "output_type": "execute_result"
    }
   ],
   "source": [
    "urbana96 = float('%.1f' %(urbana96/1000))\n",
    "urbana96"
   ]
  },
  {
   "cell_type": "code",
   "execution_count": 124,
   "metadata": {},
   "outputs": [
    {
     "data": {
      "text/plain": [
       "127.7"
      ]
     },
     "execution_count": 124,
     "metadata": {},
     "output_type": "execute_result"
    }
   ],
   "source": [
    "urbana97 = float('%.1f' %(urbana97/1000))\n",
    "urbana97"
   ]
  },
  {
   "cell_type": "code",
   "execution_count": 125,
   "metadata": {},
   "outputs": [
    {
     "data": {
      "text/plain": [
       "174.9"
      ]
     },
     "execution_count": 125,
     "metadata": {},
     "output_type": "execute_result"
    }
   ],
   "source": [
    "rural97 = float('%.1f' %(rural97/1000))\n",
    "rural97"
   ]
  },
  {
   "cell_type": "code",
   "execution_count": 126,
   "metadata": {},
   "outputs": [
    {
     "data": {
      "text/plain": [
       "130.3"
      ]
     },
     "execution_count": 126,
     "metadata": {},
     "output_type": "execute_result"
    }
   ],
   "source": [
    "urbana98 = float('%.1f' %(urbana98/1000))\n",
    "urbana98"
   ]
  },
  {
   "cell_type": "code",
   "execution_count": 127,
   "metadata": {},
   "outputs": [
    {
     "data": {
      "text/plain": [
       "168.8"
      ]
     },
     "execution_count": 127,
     "metadata": {},
     "output_type": "execute_result"
    }
   ],
   "source": [
    "rural98 = float('%.1f' %(rural98/1000))\n",
    "rural98"
   ]
  },
  {
   "cell_type": "code",
   "execution_count": 128,
   "metadata": {},
   "outputs": [
    {
     "data": {
      "text/plain": [
       "59.4"
      ]
     },
     "execution_count": 128,
     "metadata": {},
     "output_type": "execute_result"
    }
   ],
   "source": [
    "urbana99 = float('%.1f' %(urbana99/1000))\n",
    "urbana99"
   ]
  },
  {
   "cell_type": "code",
   "execution_count": 129,
   "metadata": {},
   "outputs": [
    {
     "data": {
      "text/plain": [
       "1.7"
      ]
     },
     "execution_count": 129,
     "metadata": {},
     "output_type": "execute_result"
    }
   ],
   "source": [
    "rural99 = float('%.1f' %(rural99/1000))\n",
    "rural99"
   ]
  },
  {
   "cell_type": "code",
   "execution_count": 130,
   "metadata": {},
   "outputs": [
    {
     "data": {
      "image/png": "[encoded data removed]",
      "text/plain": [
       "<Figure size 432x288 with 1 Axes>"
      ]
     },
     "metadata": {
      "needs_background": "light"
     },
     "output_type": "display_data"
    }
   ],
   "source": [
    "labels = ['1995', '1996', '1997', '1998', '1999']\n",
    "urbana = [urbana95, urbana96, urbana97, urbana98, urbana99]\n",
    "rural = [rural95, rural96, rural97, rural98, rural99]\n",
    "\n",
    "x = np.arange(len(labels))  # localização do labels\n",
    "width = 0.4# espessura da barra\n",
    "\n",
    "fig, ax = plt.subplots()\n",
    "rects1 = ax.bar(x - width/2, urbana, width, label='Urbana')\n",
    "rects2 = ax.bar(x + width/2, rural, width, label='Rural')\n",
    "\n",
    "# Adiciona texto aos rótulos\n",
    "ax.set_ylabel('Valores dividido por 1,000')\n",
    "ax.set_title('Localização das escolas de ensino básico')\n",
    "ax.set_xticks(x)\n",
    "ax.set_xticklabels(labels)\n",
    "ax.legend()\n",
    "\n",
    "\n",
    "def autolabel(rects):\n",
    "    # Anexa um valor acima de cada barra, exibindo sua altura\n",
    "    for rect in rects:\n",
    "        height = rect.get_height()\n",
    "        ax.annotate('{}'.format(height),\n",
    "                    xy=(rect.get_x() + rect.get_width() / 2, height),\n",
    "                    xytext=(0, 3), # Alinhamento dos valores das alturas das barras\n",
    "                    textcoords=\"offset points\",\n",
    "                    ha='center', va='bottom')\n",
    "\n",
    "\n",
    "autolabel(rects1)\n",
    "autolabel(rects2)\n",
    "\n",
    "fig.tight_layout()\n",
    "\n",
    "plt.show()"
   ]
  },
  {
   "cell_type": "code",
   "execution_count": null,
   "metadata": {},
   "outputs": [],
   "source": []
  }
 ],
 "metadata": {
  "kernelspec": {
   "display_name": "Python 3",
   "language": "python",
   "name": "python3"
  },
  "language_info": {
   "codemirror_mode": {
    "name": "ipython",
    "version": 3
   },
   "file_extension": ".py",
   "mimetype": "text/x-python",
   "name": "python",
   "nbconvert_exporter": "python",
   "pygments_lexer": "ipython3",
   "version": "3.7.4"
  }
 },
 "nbformat": 4,
 "nbformat_minor": 2
}
